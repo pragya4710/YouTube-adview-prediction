{
  "nbformat": 4,
  "nbformat_minor": 0,
  "metadata": {
    "colab": {
      "name": "Pragya_Mehta_Project.ipynb",
      "provenance": [],
      "collapsed_sections": [],
      "toc_visible": true
    },
    "kernelspec": {
      "name": "python3",
      "display_name": "Python 3"
    }
  },
  "cells": [
    {
      "cell_type": "markdown",
      "metadata": {
        "id": "WR9XLguTDiT6"
      },
      "source": [
        "# **Step 1** "
      ]
    },
    {
      "cell_type": "code",
      "metadata": {
        "id": "SzD-MEP6LP4k"
      },
      "source": [
        "#importing libraries\n",
        "import pandas as pd\n",
        "import numpy as np\n",
        "import matplotlib.pyplot as plt\n",
        "import matplotlib.cm as cm\n",
        "import seaborn as sns"
      ],
      "execution_count": null,
      "outputs": []
    },
    {
      "cell_type": "code",
      "metadata": {
        "id": "0swe3DDPi2r2"
      },
      "source": [
        "#loading dataset\n",
        "data_train=pd.read_csv('train.csv')\n",
        "data_test=pd.read_csv('test.csv')"
      ],
      "execution_count": null,
      "outputs": []
    },
    {
      "cell_type": "code",
      "metadata": {
        "id": "uCquavshtMaE",
        "colab": {
          "base_uri": "https://localhost:8080/",
          "height": 195
        },
        "outputId": "c856fae2-5b53-459e-acd8-ffb3fd1eeb77"
      },
      "source": [
        "data_train.head(5)"
      ],
      "execution_count": null,
      "outputs": [
        {
          "output_type": "execute_result",
          "data": {
            "text/html": [
              "<div>\n",
              "<style scoped>\n",
              "    .dataframe tbody tr th:only-of-type {\n",
              "        vertical-align: middle;\n",
              "    }\n",
              "\n",
              "    .dataframe tbody tr th {\n",
              "        vertical-align: top;\n",
              "    }\n",
              "\n",
              "    .dataframe thead th {\n",
              "        text-align: right;\n",
              "    }\n",
              "</style>\n",
              "<table border=\"1\" class=\"dataframe\">\n",
              "  <thead>\n",
              "    <tr style=\"text-align: right;\">\n",
              "      <th></th>\n",
              "      <th>vidid</th>\n",
              "      <th>adview</th>\n",
              "      <th>views</th>\n",
              "      <th>likes</th>\n",
              "      <th>dislikes</th>\n",
              "      <th>comment</th>\n",
              "      <th>published</th>\n",
              "      <th>duration</th>\n",
              "      <th>category</th>\n",
              "    </tr>\n",
              "  </thead>\n",
              "  <tbody>\n",
              "    <tr>\n",
              "      <th>0</th>\n",
              "      <td>VID_18655</td>\n",
              "      <td>40</td>\n",
              "      <td>1031602</td>\n",
              "      <td>8523</td>\n",
              "      <td>363</td>\n",
              "      <td>1095</td>\n",
              "      <td>14-09-2016</td>\n",
              "      <td>PT7M37S</td>\n",
              "      <td>F</td>\n",
              "    </tr>\n",
              "    <tr>\n",
              "      <th>1</th>\n",
              "      <td>VID_14135</td>\n",
              "      <td>2</td>\n",
              "      <td>1707</td>\n",
              "      <td>56</td>\n",
              "      <td>2</td>\n",
              "      <td>6</td>\n",
              "      <td>01-10-2016</td>\n",
              "      <td>PT9M30S</td>\n",
              "      <td>D</td>\n",
              "    </tr>\n",
              "    <tr>\n",
              "      <th>2</th>\n",
              "      <td>VID_2187</td>\n",
              "      <td>1</td>\n",
              "      <td>2023</td>\n",
              "      <td>25</td>\n",
              "      <td>0</td>\n",
              "      <td>2</td>\n",
              "      <td>02-07-2016</td>\n",
              "      <td>PT2M16S</td>\n",
              "      <td>C</td>\n",
              "    </tr>\n",
              "    <tr>\n",
              "      <th>3</th>\n",
              "      <td>VID_23096</td>\n",
              "      <td>6</td>\n",
              "      <td>620860</td>\n",
              "      <td>777</td>\n",
              "      <td>161</td>\n",
              "      <td>153</td>\n",
              "      <td>27-07-2016</td>\n",
              "      <td>PT4M22S</td>\n",
              "      <td>H</td>\n",
              "    </tr>\n",
              "    <tr>\n",
              "      <th>4</th>\n",
              "      <td>VID_10175</td>\n",
              "      <td>1</td>\n",
              "      <td>666</td>\n",
              "      <td>1</td>\n",
              "      <td>0</td>\n",
              "      <td>0</td>\n",
              "      <td>29-06-2016</td>\n",
              "      <td>PT31S</td>\n",
              "      <td>D</td>\n",
              "    </tr>\n",
              "  </tbody>\n",
              "</table>\n",
              "</div>"
            ],
            "text/plain": [
              "       vidid  adview    views likes  ... comment   published duration category\n",
              "0  VID_18655      40  1031602  8523  ...    1095  14-09-2016  PT7M37S        F\n",
              "1  VID_14135       2     1707    56  ...       6  01-10-2016  PT9M30S        D\n",
              "2   VID_2187       1     2023    25  ...       2  02-07-2016  PT2M16S        C\n",
              "3  VID_23096       6   620860   777  ...     153  27-07-2016  PT4M22S        H\n",
              "4  VID_10175       1      666     1  ...       0  29-06-2016    PT31S        D\n",
              "\n",
              "[5 rows x 9 columns]"
            ]
          },
          "metadata": {
            "tags": []
          },
          "execution_count": 9
        }
      ]
    },
    {
      "cell_type": "code",
      "metadata": {
        "id": "qhLmkDWoPKWB",
        "colab": {
          "base_uri": "https://localhost:8080/",
          "height": 52
        },
        "outputId": "ce25fc10-2558-47f4-a6a3-de6676cf2a10"
      },
      "source": [
        "print(data_train.shape)\n",
        "print(data_test.shape)"
      ],
      "execution_count": null,
      "outputs": [
        {
          "output_type": "stream",
          "text": [
            "(14999, 9)\n",
            "(8764, 8)\n"
          ],
          "name": "stdout"
        }
      ]
    },
    {
      "cell_type": "code",
      "metadata": {
        "id": "VyMp3qY6NgHs",
        "colab": {
          "base_uri": "https://localhost:8080/",
          "height": 193
        },
        "outputId": "3f5f97ef-f8af-40ce-ab93-abd1f3061074"
      },
      "source": [
        "data_train.dtypes"
      ],
      "execution_count": null,
      "outputs": [
        {
          "output_type": "execute_result",
          "data": {
            "text/plain": [
              "vidid        object\n",
              "adview        int64\n",
              "views        object\n",
              "likes        object\n",
              "dislikes     object\n",
              "comment      object\n",
              "published    object\n",
              "duration     object\n",
              "category     object\n",
              "dtype: object"
            ]
          },
          "metadata": {
            "tags": []
          },
          "execution_count": 11
        }
      ]
    },
    {
      "cell_type": "markdown",
      "metadata": {
        "id": "K9AphU_ZEFwJ"
      },
      "source": [
        "# **Step 2,3,4**"
      ]
    },
    {
      "cell_type": "code",
      "metadata": {
        "id": "cwtsduLVr0uj",
        "colab": {
          "base_uri": "https://localhost:8080/",
          "height": 263
        },
        "outputId": "95490f76-0eeb-4060-caf9-3e846d1a67c1"
      },
      "source": [
        "category={'A': 1,'B':2,'C':3,'D':4,'E':5,'F':6,'G':7,'H':8}\n",
        "data_train[\"category\"]=data_train[\"category\"].map(category)\n",
        "data_test[\"category\"]=data_test[\"category\"].map(category)\n",
        "print(data_train.head())\n",
        "print(data_test.head())\n"
      ],
      "execution_count": null,
      "outputs": [
        {
          "output_type": "stream",
          "text": [
            "       vidid  adview    views likes  ... comment   published duration category\n",
            "0  VID_18655      40  1031602  8523  ...    1095  14-09-2016  PT7M37S        6\n",
            "1  VID_14135       2     1707    56  ...       6  01-10-2016  PT9M30S        4\n",
            "2   VID_2187       1     2023    25  ...       2  02-07-2016  PT2M16S        3\n",
            "3  VID_23096       6   620860   777  ...     153  27-07-2016  PT4M22S        8\n",
            "4  VID_10175       1      666     1  ...       0  29-06-2016    PT31S        4\n",
            "\n",
            "[5 rows x 9 columns]\n",
            "       vidid    views likes dislikes comment   published  duration  category\n",
            "0   VID_1054   440238  6153      218    1377  18-02-2017   PT7M29S         2\n",
            "1  VID_18629  1040132  8171      340    1047  28-06-2016   PT6M29S         6\n",
            "2  VID_13967    28534    31       11       1  10-03-2014  PT37M54S         4\n",
            "3  VID_19442  1316715  2284      250     274  05-06-2010   PT9M55S         7\n",
            "4    VID_770  1893173  2519      225     116  03-09-2016    PT3M8S         2\n"
          ],
          "name": "stdout"
        }
      ]
    },
    {
      "cell_type": "code",
      "metadata": {
        "id": "yxmwwT1d1zy7"
      },
      "source": [
        "#removing the 'F' character \n",
        "data_train=data_train[data_train.views!='F']\n",
        "data_train=data_train[data_train.likes!='F']\n",
        "data_train=data_train[data_train.dislikes!='F']\n",
        "data_train=data_train[data_train.comment!='F']\n",
        "\n",
        "data_test=data_test[data_test.views!='F']\n",
        "data_test=data_test[data_test.likes!='F']\n",
        "data_test=data_test[data_test.dislikes!='F']\n",
        "data_test=data_test[data_test.comment!='F']"
      ],
      "execution_count": null,
      "outputs": []
    },
    {
      "cell_type": "code",
      "metadata": {
        "id": "Y5qA7Y5M3__z",
        "colab": {
          "base_uri": "https://localhost:8080/",
          "height": 351
        },
        "outputId": "ebfa80e3-d2b1-4cc3-f86a-479d8cc39968"
      },
      "source": [
        "#converting object type to numeric type\n",
        "data_train['views']=pd.to_numeric(data_train['views'])\n",
        "data_train['likes']=pd.to_numeric(data_train['likes'])\n",
        "data_train['dislikes']=pd.to_numeric(data_train['dislikes'])\n",
        "data_train['comment']=pd.to_numeric(data_train['comment'])\n",
        "data_train['adview']=pd.to_numeric(data_train['adview'])\n",
        "print(data_train.dtypes)\n",
        "\n",
        "data_test['views']=pd.to_numeric(data_test['views'])\n",
        "data_test['likes']=pd.to_numeric(data_test['likes'])\n",
        "data_test['dislikes']=pd.to_numeric(data_test['dislikes'])\n",
        "data_test['comment']=pd.to_numeric(data_test['comment'])\n",
        "print(data_test.dtypes)"
      ],
      "execution_count": null,
      "outputs": [
        {
          "output_type": "stream",
          "text": [
            "vidid        object\n",
            "adview        int64\n",
            "views         int64\n",
            "likes         int64\n",
            "dislikes      int64\n",
            "comment       int64\n",
            "published    object\n",
            "duration     object\n",
            "category      int64\n",
            "dtype: object\n",
            "vidid        object\n",
            "views         int64\n",
            "likes         int64\n",
            "dislikes      int64\n",
            "comment       int64\n",
            "published    object\n",
            "duration     object\n",
            "category      int64\n",
            "dtype: object\n"
          ],
          "name": "stdout"
        }
      ]
    },
    {
      "cell_type": "code",
      "metadata": {
        "id": "zUvc-Pyw5ueG",
        "colab": {
          "base_uri": "https://localhost:8080/",
          "height": 263
        },
        "outputId": "947b0947-3087-4912-d53a-b7b668ee2e15"
      },
      "source": [
        "#Encoding features like published,vidid,duration\n",
        "from sklearn.preprocessing import LabelEncoder\n",
        "data_train['vidid']=LabelEncoder().fit_transform(data_train['vidid'])\n",
        "data_train['duration']=LabelEncoder().fit_transform(data_train['duration'])\n",
        "data_train['published']=LabelEncoder().fit_transform(data_train['published'])\n",
        "print(data_train.head(5))\n",
        "\n",
        "data_test['vidid']=LabelEncoder().fit_transform(data_test['vidid'])\n",
        "data_test['duration']=LabelEncoder().fit_transform(data_test['duration'])\n",
        "data_test['published']=LabelEncoder().fit_transform(data_test['published'])\n",
        "print(data_test.head(5))"
      ],
      "execution_count": null,
      "outputs": [
        {
          "output_type": "stream",
          "text": [
            "   vidid  adview    views  likes  ...  comment  published  duration  category\n",
            "0   5912      40  1031602   8523  ...     1095       1090      2925         6\n",
            "1   2741       2     1707     56  ...        6         64      3040         4\n",
            "2   8138       1     2023     25  ...        2        122      1863         3\n",
            "3   9005       6   620860    777  ...      153       2088      2546         8\n",
            "4    122       1      666      1  ...        0       2233      1963         4\n",
            "\n",
            "[5 rows x 9 columns]\n",
            "   vidid    views  likes  dislikes  comment  published  duration  category\n",
            "0    231   440238   6153       218     1377       1186      2115         2\n",
            "1   3444  1040132   8171       340     1047       1898      2055         6\n",
            "2   1593    28534     31        11        1        634      1506         4\n",
            "3   3775  1316715   2284       250      274        307      2265         7\n",
            "4   7644  1893173   2519       225      116        187      1625         2\n"
          ],
          "name": "stdout"
        }
      ]
    },
    {
      "cell_type": "code",
      "metadata": {
        "id": "lQ4kas_iAXhL",
        "colab": {
          "base_uri": "https://localhost:8080/",
          "height": 263
        },
        "outputId": "6424e4bc-dd07-411b-da7f-c8e3592f6059"
      },
      "source": [
        "# Converting Time into Sec \n",
        "import datetime\n",
        "import time\n",
        "\n",
        "def checki(x):\n",
        "  y = x[2:]\n",
        "  h = ''\n",
        "  m = ''\n",
        "  s = ''\n",
        "  mm = ''\n",
        "  P = ['H','M','S']\n",
        "  for i in y:\n",
        "    if i not in P:\n",
        "      mm+=i\n",
        "    else:\n",
        "      if(i==\"H\"):\n",
        "        h = mm\n",
        "        mm = ''\n",
        "      elif(i == \"M\"):\n",
        "        m = mm\n",
        "        mm = ''\n",
        "      else:\n",
        "        s = mm\n",
        "        mm = ''\n",
        "  if(h==''):\n",
        "    h = '00'\n",
        "  if(m == ''):\n",
        "    m = '00'\n",
        "  if(s==''):\n",
        "    s='00'\n",
        "  bp = h+':'+m+':'+s\n",
        "  return bp\n",
        "\n",
        "train=pd.read_csv(\"train.csv\")\n",
        "test=pd.read_csv(\"test.csv\")\n",
        "tr = pd.read_csv(\"train.csv\")[\"duration\"]\n",
        "te=pd.read_csv(\"test.csv\")[\"duration\"]\n",
        "timetr = tr.apply(checki)\n",
        "timete=te.apply(checki)\n",
        "\n",
        "def func_sec(time_string):\n",
        "  h, m, s = time_string.split(':')\n",
        "  return int(h) * 3600 + int(m) * 60 + int(s)\n",
        "\n",
        "time1=timetr.apply(func_sec)\n",
        "time2=timete.apply(func_sec)\n",
        "\n",
        "data_train[\"duration\"]=time1\n",
        "data_test[\"duration\"]=time2\n",
        "print(data_train.head())\n",
        "print(data_test.head())"
      ],
      "execution_count": null,
      "outputs": [
        {
          "output_type": "stream",
          "text": [
            "   vidid  adview    views  likes  ...  comment  published  duration  category\n",
            "0   5912      40  1031602   8523  ...     1095       1090       457         6\n",
            "1   2741       2     1707     56  ...        6         64       570         4\n",
            "2   8138       1     2023     25  ...        2        122       136         3\n",
            "3   9005       6   620860    777  ...      153       2088       262         8\n",
            "4    122       1      666      1  ...        0       2233        31         4\n",
            "\n",
            "[5 rows x 9 columns]\n",
            "   vidid    views  likes  dislikes  comment  published  duration  category\n",
            "0    231   440238   6153       218     1377       1186       449         2\n",
            "1   3444  1040132   8171       340     1047       1898       389         6\n",
            "2   1593    28534     31        11        1        634      2274         4\n",
            "3   3775  1316715   2284       250      274        307       595         7\n",
            "4   7644  1893173   2519       225      116        187       188         2\n"
          ],
          "name": "stdout"
        }
      ]
    },
    {
      "cell_type": "code",
      "metadata": {
        "id": "_eJwWoFfDdKw",
        "colab": {
          "base_uri": "https://localhost:8080/",
          "height": 282
        },
        "outputId": "dc930261-a5f6-465c-80b7-1f1e3ebc3f6a"
      },
      "source": [
        "# Visualization\n",
        "# Histogram\n",
        "plt.hist(data_train['category'])\n",
        "plt.show\n"
      ],
      "execution_count": null,
      "outputs": [
        {
          "output_type": "execute_result",
          "data": {
            "text/plain": [
              "<function matplotlib.pyplot.show>"
            ]
          },
          "metadata": {
            "tags": []
          },
          "execution_count": 17
        },
        {
          "output_type": "display_data",
          "data": {
            "image/png": "[encoded data removed]",
            "text/plain": [
              "<Figure size 432x288 with 1 Axes>"
            ]
          },
          "metadata": {
            "tags": [],
            "needs_background": "light"
          }
        }
      ]
    },
    {
      "cell_type": "code",
      "metadata": {
        "id": "djbWlSDMMBEw",
        "colab": {
          "base_uri": "https://localhost:8080/",
          "height": 276
        },
        "outputId": "29d456ec-394f-4417-9ab5-4d8148014d38"
      },
      "source": [
        "# Line Graph\n",
        "plt.plot(data_train['adview'])\n",
        "plt.show()"
      ],
      "execution_count": null,
      "outputs": [
        {
          "output_type": "display_data",
          "data": {
            "image/png": "[encoded data removed]",
            "text/plain": [
              "<Figure size 432x288 with 1 Axes>"
            ]
          },
          "metadata": {
            "tags": [],
            "needs_background": "light"
          }
        }
      ]
    },
    {
      "cell_type": "code",
      "metadata": {
        "id": "1eiCj4vgMx5M",
        "colab": {
          "base_uri": "https://localhost:8080/",
          "height": 294
        },
        "outputId": "38759e02-ce57-48b2-f524-365cb6dc5994"
      },
      "source": [
        "# Scattered Graph\n",
        "plt.scatter(data_train['likes'],data_train['adview'])\n",
        "plt.show"
      ],
      "execution_count": null,
      "outputs": [
        {
          "output_type": "execute_result",
          "data": {
            "text/plain": [
              "<function matplotlib.pyplot.show>"
            ]
          },
          "metadata": {
            "tags": []
          },
          "execution_count": 19
        },
        {
          "output_type": "display_data",
          "data": {
            "image/png": "[encoded data removed]",
            "text/plain": [
              "<Figure size 432x288 with 1 Axes>"
            ]
          },
          "metadata": {
            "tags": [],
            "needs_background": "light"
          }
        }
      ]
    },
    {
      "cell_type": "code",
      "metadata": {
        "id": "6rmsAE_cNfGx"
      },
      "source": [
        "# Removing videos with adview greater the 20,00,000 as outliers\n",
        "data_train=data_train[data_train['adview']<2000000] "
      ],
      "execution_count": null,
      "outputs": []
    },
    {
      "cell_type": "code",
      "metadata": {
        "id": "9_TfNf7bmFqo",
        "colab": {
          "base_uri": "https://localhost:8080/",
          "height": 294
        },
        "outputId": "737c558c-d727-446d-c0b6-70233f0db760"
      },
      "source": [
        "plt.plot(data_train['adview'])\n",
        "plt.show"
      ],
      "execution_count": null,
      "outputs": [
        {
          "output_type": "execute_result",
          "data": {
            "text/plain": [
              "<function matplotlib.pyplot.show>"
            ]
          },
          "metadata": {
            "tags": []
          },
          "execution_count": 21
        },
        {
          "output_type": "display_data",
          "data": {
            "image/png": "[encoded data removed]",
            "text/plain": [
              "<Figure size 432x288 with 1 Axes>"
            ]
          },
          "metadata": {
            "tags": [],
            "needs_background": "light"
          }
        }
      ]
    },
    {
      "cell_type": "code",
      "metadata": {
        "id": "gh8lTQTuMguI",
        "colab": {
          "base_uri": "https://localhost:8080/",
          "height": 522
        },
        "outputId": "44c98e8a-ebeb-479b-e4c6-9f7db9add3b9"
      },
      "source": [
        "# heatmap\n",
        "f,ax=plt.subplots(figsize=(10,8))\n",
        "title=\"Train Dataset Heatmap\"\n",
        "plt.title(title,fontsize=20)\n",
        "\n",
        "corr=data_train.corr()\n",
        "sns.heatmap(corr,mask=np.zeros_like(corr,dtype=np.bool),cmap=sns.hls_palette(220,10,as_cmap=True),square=True,ax=ax,annot=True)\n",
        "plt.show"
      ],
      "execution_count": null,
      "outputs": [
        {
          "output_type": "execute_result",
          "data": {
            "text/plain": [
              "<function matplotlib.pyplot.show>"
            ]
          },
          "metadata": {
            "tags": []
          },
          "execution_count": 22
        },
        {
          "output_type": "display_data",
          "data": {
            "image/png": "[encoded data removed]",
            "text/plain": [
              "<Figure size 720x576 with 2 Axes>"
            ]
          },
          "metadata": {
            "tags": [],
            "needs_background": "light"
          }
        }
      ]
    },
    {
      "cell_type": "markdown",
      "metadata": {
        "id": "n8QPc1BQ8mMK"
      },
      "source": [
        "# **Step 5**"
      ]
    },
    {
      "cell_type": "code",
      "metadata": {
        "id": "1DNBp9o8dM62",
        "colab": {
          "base_uri": "https://localhost:8080/",
          "height": 402
        },
        "outputId": "56b5250e-6efe-43ba-d934-c9959764b7ca"
      },
      "source": [
        "# Spliting data\n",
        "Y_train=pd.DataFrame(data=data_train.iloc[:,1].values,columns=['target'])\n",
        "Y_train\n"
      ],
      "execution_count": null,
      "outputs": [
        {
          "output_type": "execute_result",
          "data": {
            "text/html": [
              "<div>\n",
              "<style scoped>\n",
              "    .dataframe tbody tr th:only-of-type {\n",
              "        vertical-align: middle;\n",
              "    }\n",
              "\n",
              "    .dataframe tbody tr th {\n",
              "        vertical-align: top;\n",
              "    }\n",
              "\n",
              "    .dataframe thead th {\n",
              "        text-align: right;\n",
              "    }\n",
              "</style>\n",
              "<table border=\"1\" class=\"dataframe\">\n",
              "  <thead>\n",
              "    <tr style=\"text-align: right;\">\n",
              "      <th></th>\n",
              "      <th>target</th>\n",
              "    </tr>\n",
              "  </thead>\n",
              "  <tbody>\n",
              "    <tr>\n",
              "      <th>0</th>\n",
              "      <td>40</td>\n",
              "    </tr>\n",
              "    <tr>\n",
              "      <th>1</th>\n",
              "      <td>2</td>\n",
              "    </tr>\n",
              "    <tr>\n",
              "      <th>2</th>\n",
              "      <td>1</td>\n",
              "    </tr>\n",
              "    <tr>\n",
              "      <th>3</th>\n",
              "      <td>6</td>\n",
              "    </tr>\n",
              "    <tr>\n",
              "      <th>4</th>\n",
              "      <td>1</td>\n",
              "    </tr>\n",
              "    <tr>\n",
              "      <th>...</th>\n",
              "      <td>...</td>\n",
              "    </tr>\n",
              "    <tr>\n",
              "      <th>14631</th>\n",
              "      <td>2</td>\n",
              "    </tr>\n",
              "    <tr>\n",
              "      <th>14632</th>\n",
              "      <td>1</td>\n",
              "    </tr>\n",
              "    <tr>\n",
              "      <th>14633</th>\n",
              "      <td>4</td>\n",
              "    </tr>\n",
              "    <tr>\n",
              "      <th>14634</th>\n",
              "      <td>1</td>\n",
              "    </tr>\n",
              "    <tr>\n",
              "      <th>14635</th>\n",
              "      <td>1</td>\n",
              "    </tr>\n",
              "  </tbody>\n",
              "</table>\n",
              "<p>14636 rows × 1 columns</p>\n",
              "</div>"
            ],
            "text/plain": [
              "       target\n",
              "0          40\n",
              "1           2\n",
              "2           1\n",
              "3           6\n",
              "4           1\n",
              "...       ...\n",
              "14631       2\n",
              "14632       1\n",
              "14633       4\n",
              "14634       1\n",
              "14635       1\n",
              "\n",
              "[14636 rows x 1 columns]"
            ]
          },
          "metadata": {
            "tags": []
          },
          "execution_count": 23
        }
      ]
    },
    {
      "cell_type": "code",
      "metadata": {
        "id": "4kXDZ1igj5LT",
        "colab": {
          "base_uri": "https://localhost:8080/",
          "height": 228
        },
        "outputId": "b956029e-241f-411a-a6ab-7d3ff8ef5381"
      },
      "source": [
        "data_train=data_train.drop(['adview'],axis=1)\n",
        "data_train=data_train.drop(['vidid'],axis=1)\n",
        "print(data_train.head(5))\n",
        "\n",
        "data_test=data_test.drop(['vidid'],axis=1)\n",
        "print(data_test.head(5))"
      ],
      "execution_count": null,
      "outputs": [
        {
          "output_type": "stream",
          "text": [
            "     views  likes  dislikes  comment  published  duration  category\n",
            "0  1031602   8523       363     1095       1090       457         6\n",
            "1     1707     56         2        6         64       570         4\n",
            "2     2023     25         0        2        122       136         3\n",
            "3   620860    777       161      153       2088       262         8\n",
            "4      666      1         0        0       2233        31         4\n",
            "     views  likes  dislikes  comment  published  duration  category\n",
            "0   440238   6153       218     1377       1186       449         2\n",
            "1  1040132   8171       340     1047       1898       389         6\n",
            "2    28534     31        11        1        634      2274         4\n",
            "3  1316715   2284       250      274        307       595         7\n",
            "4  1893173   2519       225      116        187       188         2\n"
          ],
          "name": "stdout"
        }
      ]
    },
    {
      "cell_type": "code",
      "metadata": {
        "id": "3gqqtMBhgm1R",
        "colab": {
          "base_uri": "https://localhost:8080/",
          "height": 402
        },
        "outputId": "f7c0c519-d88c-466e-cb27-59308b6227b7"
      },
      "source": [
        "from sklearn.model_selection import train_test_split\n",
        "X_train,X_test,y_train,y_test=train_test_split(data_train,Y_train,test_size=0.2,random_state=42)\n",
        "y_train"
      ],
      "execution_count": null,
      "outputs": [
        {
          "output_type": "execute_result",
          "data": {
            "text/html": [
              "<div>\n",
              "<style scoped>\n",
              "    .dataframe tbody tr th:only-of-type {\n",
              "        vertical-align: middle;\n",
              "    }\n",
              "\n",
              "    .dataframe tbody tr th {\n",
              "        vertical-align: top;\n",
              "    }\n",
              "\n",
              "    .dataframe thead th {\n",
              "        text-align: right;\n",
              "    }\n",
              "</style>\n",
              "<table border=\"1\" class=\"dataframe\">\n",
              "  <thead>\n",
              "    <tr style=\"text-align: right;\">\n",
              "      <th></th>\n",
              "      <th>target</th>\n",
              "    </tr>\n",
              "  </thead>\n",
              "  <tbody>\n",
              "    <tr>\n",
              "      <th>13119</th>\n",
              "      <td>39</td>\n",
              "    </tr>\n",
              "    <tr>\n",
              "      <th>9293</th>\n",
              "      <td>4</td>\n",
              "    </tr>\n",
              "    <tr>\n",
              "      <th>2937</th>\n",
              "      <td>18782</td>\n",
              "    </tr>\n",
              "    <tr>\n",
              "      <th>1839</th>\n",
              "      <td>2</td>\n",
              "    </tr>\n",
              "    <tr>\n",
              "      <th>11099</th>\n",
              "      <td>20</td>\n",
              "    </tr>\n",
              "    <tr>\n",
              "      <th>...</th>\n",
              "      <td>...</td>\n",
              "    </tr>\n",
              "    <tr>\n",
              "      <th>5191</th>\n",
              "      <td>21127</td>\n",
              "    </tr>\n",
              "    <tr>\n",
              "      <th>13418</th>\n",
              "      <td>1</td>\n",
              "    </tr>\n",
              "    <tr>\n",
              "      <th>5390</th>\n",
              "      <td>1</td>\n",
              "    </tr>\n",
              "    <tr>\n",
              "      <th>860</th>\n",
              "      <td>2</td>\n",
              "    </tr>\n",
              "    <tr>\n",
              "      <th>7270</th>\n",
              "      <td>1</td>\n",
              "    </tr>\n",
              "  </tbody>\n",
              "</table>\n",
              "<p>11708 rows × 1 columns</p>\n",
              "</div>"
            ],
            "text/plain": [
              "       target\n",
              "13119      39\n",
              "9293        4\n",
              "2937    18782\n",
              "1839        2\n",
              "11099      20\n",
              "...       ...\n",
              "5191    21127\n",
              "13418       1\n",
              "5390        1\n",
              "860         2\n",
              "7270        1\n",
              "\n",
              "[11708 rows x 1 columns]"
            ]
          },
          "metadata": {
            "tags": []
          },
          "execution_count": 25
        }
      ]
    },
    {
      "cell_type": "code",
      "metadata": {
        "id": "Bg1ytaxSoY7L",
        "colab": {
          "base_uri": "https://localhost:8080/",
          "height": 284
        },
        "outputId": "9bccd572-ede3-4fa8-ecee-eed0635b6253"
      },
      "source": [
        "X_train.describe()"
      ],
      "execution_count": null,
      "outputs": [
        {
          "output_type": "execute_result",
          "data": {
            "text/html": [
              "<div>\n",
              "<style scoped>\n",
              "    .dataframe tbody tr th:only-of-type {\n",
              "        vertical-align: middle;\n",
              "    }\n",
              "\n",
              "    .dataframe tbody tr th {\n",
              "        vertical-align: top;\n",
              "    }\n",
              "\n",
              "    .dataframe thead th {\n",
              "        text-align: right;\n",
              "    }\n",
              "</style>\n",
              "<table border=\"1\" class=\"dataframe\">\n",
              "  <thead>\n",
              "    <tr style=\"text-align: right;\">\n",
              "      <th></th>\n",
              "      <th>views</th>\n",
              "      <th>likes</th>\n",
              "      <th>dislikes</th>\n",
              "      <th>comment</th>\n",
              "      <th>published</th>\n",
              "      <th>duration</th>\n",
              "      <th>category</th>\n",
              "    </tr>\n",
              "  </thead>\n",
              "  <tbody>\n",
              "    <tr>\n",
              "      <th>count</th>\n",
              "      <td>1.170800e+04</td>\n",
              "      <td>11708.000000</td>\n",
              "      <td>11708.000000</td>\n",
              "      <td>11708.000000</td>\n",
              "      <td>11708.000000</td>\n",
              "      <td>11708.000000</td>\n",
              "      <td>11708.000000</td>\n",
              "    </tr>\n",
              "    <tr>\n",
              "      <th>mean</th>\n",
              "      <td>6.974161e+05</td>\n",
              "      <td>2771.122139</td>\n",
              "      <td>251.030577</td>\n",
              "      <td>418.178767</td>\n",
              "      <td>1212.619406</td>\n",
              "      <td>1048.108985</td>\n",
              "      <td>4.611548</td>\n",
              "    </tr>\n",
              "    <tr>\n",
              "      <th>std</th>\n",
              "      <td>2.582877e+06</td>\n",
              "      <td>8734.608422</td>\n",
              "      <td>965.881840</td>\n",
              "      <td>1556.703705</td>\n",
              "      <td>695.032779</td>\n",
              "      <td>2379.930309</td>\n",
              "      <td>1.579242</td>\n",
              "    </tr>\n",
              "    <tr>\n",
              "      <th>min</th>\n",
              "      <td>4.900000e+01</td>\n",
              "      <td>0.000000</td>\n",
              "      <td>0.000000</td>\n",
              "      <td>0.000000</td>\n",
              "      <td>0.000000</td>\n",
              "      <td>0.000000</td>\n",
              "      <td>1.000000</td>\n",
              "    </tr>\n",
              "    <tr>\n",
              "      <th>25%</th>\n",
              "      <td>3.133975e+04</td>\n",
              "      <td>86.000000</td>\n",
              "      <td>7.000000</td>\n",
              "      <td>7.000000</td>\n",
              "      <td>606.000000</td>\n",
              "      <td>188.000000</td>\n",
              "      <td>4.000000</td>\n",
              "    </tr>\n",
              "    <tr>\n",
              "      <th>50%</th>\n",
              "      <td>1.609395e+05</td>\n",
              "      <td>461.000000</td>\n",
              "      <td>39.000000</td>\n",
              "      <td>46.000000</td>\n",
              "      <td>1220.000000</td>\n",
              "      <td>327.000000</td>\n",
              "      <td>4.000000</td>\n",
              "    </tr>\n",
              "    <tr>\n",
              "      <th>75%</th>\n",
              "      <td>5.842132e+05</td>\n",
              "      <td>1897.000000</td>\n",
              "      <td>170.000000</td>\n",
              "      <td>232.000000</td>\n",
              "      <td>1827.000000</td>\n",
              "      <td>726.000000</td>\n",
              "      <td>6.000000</td>\n",
              "    </tr>\n",
              "    <tr>\n",
              "      <th>max</th>\n",
              "      <td>1.380479e+08</td>\n",
              "      <td>283824.000000</td>\n",
              "      <td>49449.000000</td>\n",
              "      <td>75045.000000</td>\n",
              "      <td>2383.000000</td>\n",
              "      <td>42317.000000</td>\n",
              "      <td>8.000000</td>\n",
              "    </tr>\n",
              "  </tbody>\n",
              "</table>\n",
              "</div>"
            ],
            "text/plain": [
              "              views          likes  ...      duration      category\n",
              "count  1.170800e+04   11708.000000  ...  11708.000000  11708.000000\n",
              "mean   6.974161e+05    2771.122139  ...   1048.108985      4.611548\n",
              "std    2.582877e+06    8734.608422  ...   2379.930309      1.579242\n",
              "min    4.900000e+01       0.000000  ...      0.000000      1.000000\n",
              "25%    3.133975e+04      86.000000  ...    188.000000      4.000000\n",
              "50%    1.609395e+05     461.000000  ...    327.000000      4.000000\n",
              "75%    5.842132e+05    1897.000000  ...    726.000000      6.000000\n",
              "max    1.380479e+08  283824.000000  ...  42317.000000      8.000000\n",
              "\n",
              "[8 rows x 7 columns]"
            ]
          },
          "metadata": {
            "tags": []
          },
          "execution_count": 26
        }
      ]
    },
    {
      "cell_type": "code",
      "metadata": {
        "id": "lx5qCGDkm5Yb"
      },
      "source": [
        "# Normalising Data\n",
        "from sklearn.preprocessing import MinMaxScaler\n",
        "scaler=MinMaxScaler()\n",
        "X_train=scaler.fit_transform(X_train)\n",
        "X_test=scaler.fit_transform(X_test)"
      ],
      "execution_count": null,
      "outputs": []
    },
    {
      "cell_type": "markdown",
      "metadata": {
        "id": "1JInZBhb9VhH"
      },
      "source": [
        "#**Step 6,7**"
      ]
    },
    {
      "cell_type": "code",
      "metadata": {
        "id": "SEFXnoVtr9Zb",
        "colab": {
          "base_uri": "https://localhost:8080/",
          "height": 70
        },
        "outputId": "f18792a8-0e3e-4b75-e398-17ee1a29f07b"
      },
      "source": [
        "# Evaluation Metrics\n",
        "from sklearn import metrics\n",
        "\n",
        "def print_error(X_test, y_test, model_name):\n",
        "  prediction = model_name.predict(X_test)\n",
        "  print('Mean Absolute Error:', metrics.mean_absolute_error(y_test, prediction))\n",
        "  print('Mean Squared Error:', metrics.mean_squared_error(y_test, prediction))\n",
        "  print('Root Mean Squared Error:', np.sqrt(metrics.mean_squared_error(y_test, prediction)))\n",
        "\n",
        "\n",
        "\n",
        "# Linear Regression\n",
        "from sklearn import linear_model\n",
        "linear_regression = linear_model.LinearRegression()\n",
        "linear_regression.fit(X_train, y_train)\n",
        "print_error(X_test,y_test, linear_regression)"
      ],
      "execution_count": null,
      "outputs": [
        {
          "output_type": "stream",
          "text": [
            "Mean Absolute Error: 3493.3179717888065\n",
            "Mean Squared Error: 838355049.0604035\n",
            "Root Mean Squared Error: 28954.361485973117\n"
          ],
          "name": "stdout"
        }
      ]
    },
    {
      "cell_type": "code",
      "metadata": {
        "id": "-Yjew3QotpgK",
        "colab": {
          "base_uri": "https://localhost:8080/",
          "height": 70
        },
        "outputId": "1cb7738e-6147-411b-b77b-c7edd6ceee06"
      },
      "source": [
        "#Decision Tree Regressor\n",
        "from sklearn.tree import DecisionTreeRegressor\n",
        "decision_tree=DecisionTreeRegressor()\n",
        "decision_tree.fit(X_train,y_train)\n",
        "print_error(X_test,y_test, decision_tree)"
      ],
      "execution_count": null,
      "outputs": [
        {
          "output_type": "stream",
          "text": [
            "Mean Absolute Error: 5463.183401639344\n",
            "Mean Squared Error: 4340632279.1212435\n",
            "Root Mean Squared Error: 65883.47500793537\n"
          ],
          "name": "stdout"
        }
      ]
    },
    {
      "cell_type": "code",
      "metadata": {
        "id": "JpntvRZ1u0u6",
        "colab": {
          "base_uri": "https://localhost:8080/",
          "height": 125
        },
        "outputId": "d6d61bd8-a92f-4537-efea-62c5bf52354c"
      },
      "source": [
        "# Random Forest Regressor\n",
        "from sklearn.ensemble import RandomForestRegressor\n",
        "n_estimators=200\n",
        "max_depth=25\n",
        "min_samples_split=15\n",
        "min_samples_leaf=2\n",
        "random_forest=RandomForestRegressor(n_estimators=n_estimators,max_depth=max_depth,min_samples_split=min_samples_split,min_samples_leaf=min_samples_leaf)\n",
        "random_forest.fit(X_train,y_train)\n",
        "print_error(X_test,y_test, random_forest)"
      ],
      "execution_count": null,
      "outputs": [
        {
          "output_type": "stream",
          "text": [
            "/usr/local/lib/python3.6/dist-packages/ipykernel_launcher.py:8: DataConversionWarning: A column-vector y was passed when a 1d array was expected. Please change the shape of y to (n_samples,), for example using ravel().\n",
            "  \n"
          ],
          "name": "stderr"
        },
        {
          "output_type": "stream",
          "text": [
            "Mean Absolute Error: 3417.3760224722723\n",
            "Mean Squared Error: 875909208.5864395\n",
            "Root Mean Squared Error: 29595.76335535949\n"
          ],
          "name": "stdout"
        }
      ]
    },
    {
      "cell_type": "code",
      "metadata": {
        "id": "w_VBkUbJwgNt",
        "colab": {
          "base_uri": "https://localhost:8080/",
          "height": 125
        },
        "outputId": "6b00a221-39ee-4c79-9ed1-5e28176bfef2"
      },
      "source": [
        "# Support Vector Regressor\n",
        "from sklearn.svm import SVR\n",
        "supportvector_regressor=SVR()\n",
        "supportvector_regressor.fit(X_train,y_train)\n",
        "print_error(X_test,y_test, supportvector_regressor)"
      ],
      "execution_count": null,
      "outputs": [
        {
          "output_type": "stream",
          "text": [
            "/usr/local/lib/python3.6/dist-packages/sklearn/utils/validation.py:760: DataConversionWarning: A column-vector y was passed when a 1d array was expected. Please change the shape of y to (n_samples, ), for example using ravel().\n",
            "  y = column_or_1d(y, warn=True)\n"
          ],
          "name": "stderr"
        },
        {
          "output_type": "stream",
          "text": [
            "Mean Absolute Error: 1696.9815596832475\n",
            "Mean Squared Error: 833685850.6202459\n",
            "Root Mean Squared Error: 28873.618592414874\n"
          ],
          "name": "stdout"
        }
      ]
    },
    {
      "cell_type": "code",
      "metadata": {
        "id": "T23er7ixHvxF",
        "colab": {
          "base_uri": "https://localhost:8080/",
          "height": 107
        },
        "outputId": "c66a8183-32f7-4077-af70-3c785264ed4b"
      },
      "source": [
        "#Chosing random forest regressor for making predictions\n",
        "from sklearn.ensemble import RandomForestRegressor\n",
        "n_estimators=200\n",
        "max_depth=25\n",
        "min_samples_split=15\n",
        "min_samples_leaf=2\n",
        "random_forest=RandomForestRegressor(n_estimators=n_estimators,max_depth=max_depth,min_samples_split=min_samples_split,min_samples_leaf=min_samples_leaf)\n",
        "random_forest.fit(X_train,y_train)\n",
        "forest_predictions=random_forest.predict(data_test)\n",
        "forest_predictions"
      ],
      "execution_count": null,
      "outputs": [
        {
          "output_type": "stream",
          "text": [
            "/usr/local/lib/python3.6/dist-packages/ipykernel_launcher.py:8: DataConversionWarning: A column-vector y was passed when a 1d array was expected. Please change the shape of y to (n_samples,), for example using ravel().\n",
            "  \n"
          ],
          "name": "stderr"
        },
        {
          "output_type": "execute_result",
          "data": {
            "text/plain": [
              "array([101234.49129128, 101234.49129128, 101234.49129128, ...,\n",
              "       101234.49129128, 101234.49129128, 102007.31042847])"
            ]
          },
          "metadata": {
            "tags": []
          },
          "execution_count": 32
        }
      ]
    },
    {
      "cell_type": "code",
      "metadata": {
        "id": "yta1ZCUhWI4H"
      },
      "source": [
        "#Creating Predictions_Submission.csv\n",
        "new_column = pd.DataFrame({'adview': forest_predictions})\n",
        "df=pd.DataFrame(data_test)\n",
        "final=pd.concat([df,new_column],axis=1)\n",
        "final.to_csv('Predictions_Submission.csv',index=False)"
      ],
      "execution_count": null,
      "outputs": []
    },
    {
      "cell_type": "markdown",
      "metadata": {
        "id": "zGKLFeab-NnB"
      },
      "source": [
        "#**Step 8**"
      ]
    },
    {
      "cell_type": "code",
      "metadata": {
        "id": "hthzC-Kux7eP",
        "colab": {
          "base_uri": "https://localhost:8080/",
          "height": 1000
        },
        "outputId": "a39298f8-4490-4203-9586-b713cda29ccd"
      },
      "source": [
        "# Artificial Neural Networks\n",
        "import keras\n",
        "from keras.layers import Dense\n",
        "ann=keras.models.Sequential([\n",
        "                             Dense(6,activation=\"relu\",\n",
        "                             input_shape=X_train.shape[1:]),\n",
        "                             Dense(6,activation=\"relu\"),\n",
        "                             Dense(1)\n",
        "                             ])\n",
        "optimizer=keras.optimizers.Adam()\n",
        "loss=keras.losses.mean_squared_error\n",
        "ann.compile(optimizer=optimizer,loss=loss,metrics=['mean_squared_error'])\n",
        "history=ann.fit(X_train,y_train,epochs=100)\n"
      ],
      "execution_count": null,
      "outputs": [
        {
          "output_type": "stream",
          "text": [
            "Epoch 1/100\n",
            "366/366 [==============================] - 0s 892us/step - loss: 767405888.0000 - mean_squared_error: 767405888.0000\n",
            "Epoch 2/100\n",
            "366/366 [==============================] - 0s 886us/step - loss: 767401344.0000 - mean_squared_error: 767401344.0000\n",
            "Epoch 3/100\n",
            "366/366 [==============================] - 0s 874us/step - loss: 767392576.0000 - mean_squared_error: 767392576.0000\n",
            "Epoch 4/100\n",
            "366/366 [==============================] - 0s 848us/step - loss: 767374144.0000 - mean_squared_error: 767374144.0000\n",
            "Epoch 5/100\n",
            "366/366 [==============================] - 0s 898us/step - loss: 767347072.0000 - mean_squared_error: 767347072.0000\n",
            "Epoch 6/100\n",
            "366/366 [==============================] - 0s 866us/step - loss: 767306624.0000 - mean_squared_error: 767306624.0000\n",
            "Epoch 7/100\n",
            "366/366 [==============================] - 0s 856us/step - loss: 767257600.0000 - mean_squared_error: 767257600.0000\n",
            "Epoch 8/100\n",
            "366/366 [==============================] - 0s 866us/step - loss: 767196992.0000 - mean_squared_error: 767196992.0000\n",
            "Epoch 9/100\n",
            "366/366 [==============================] - 0s 911us/step - loss: 767119040.0000 - mean_squared_error: 767119040.0000\n",
            "Epoch 10/100\n",
            "366/366 [==============================] - 0s 863us/step - loss: 767034688.0000 - mean_squared_error: 767034688.0000\n",
            "Epoch 11/100\n",
            "366/366 [==============================] - 0s 855us/step - loss: 766938240.0000 - mean_squared_error: 766938240.0000\n",
            "Epoch 12/100\n",
            "366/366 [==============================] - 0s 821us/step - loss: 766832448.0000 - mean_squared_error: 766832448.0000\n",
            "Epoch 13/100\n",
            "366/366 [==============================] - 0s 882us/step - loss: 766715584.0000 - mean_squared_error: 766715584.0000\n",
            "Epoch 14/100\n",
            "366/366 [==============================] - 0s 862us/step - loss: 766591744.0000 - mean_squared_error: 766591744.0000\n",
            "Epoch 15/100\n",
            "366/366 [==============================] - 0s 868us/step - loss: 766461440.0000 - mean_squared_error: 766461440.0000\n",
            "Epoch 16/100\n",
            "366/366 [==============================] - 0s 859us/step - loss: 766330944.0000 - mean_squared_error: 766330944.0000\n",
            "Epoch 17/100\n",
            "366/366 [==============================] - 0s 882us/step - loss: 766201408.0000 - mean_squared_error: 766201408.0000\n",
            "Epoch 18/100\n",
            "366/366 [==============================] - 0s 863us/step - loss: 766070592.0000 - mean_squared_error: 766070592.0000\n",
            "Epoch 19/100\n",
            "366/366 [==============================] - 0s 858us/step - loss: 765943104.0000 - mean_squared_error: 765943104.0000\n",
            "Epoch 20/100\n",
            "366/366 [==============================] - 0s 879us/step - loss: 765819264.0000 - mean_squared_error: 765819264.0000\n",
            "Epoch 21/100\n",
            "366/366 [==============================] - 0s 886us/step - loss: 765696640.0000 - mean_squared_error: 765696640.0000\n",
            "Epoch 22/100\n",
            "366/366 [==============================] - 0s 868us/step - loss: 765583296.0000 - mean_squared_error: 765583296.0000\n",
            "Epoch 23/100\n",
            "366/366 [==============================] - 0s 874us/step - loss: 765473216.0000 - mean_squared_error: 765473216.0000\n",
            "Epoch 24/100\n",
            "366/366 [==============================] - 0s 843us/step - loss: 765368128.0000 - mean_squared_error: 765368128.0000\n",
            "Epoch 25/100\n",
            "366/366 [==============================] - 0s 879us/step - loss: 765273408.0000 - mean_squared_error: 765273408.0000\n",
            "Epoch 26/100\n",
            "366/366 [==============================] - 0s 870us/step - loss: 765186944.0000 - mean_squared_error: 765186944.0000\n",
            "Epoch 27/100\n",
            "366/366 [==============================] - 0s 896us/step - loss: 765102144.0000 - mean_squared_error: 765102144.0000\n",
            "Epoch 28/100\n",
            "366/366 [==============================] - 0s 907us/step - loss: 765028352.0000 - mean_squared_error: 765028352.0000\n",
            "Epoch 29/100\n",
            "366/366 [==============================] - 0s 823us/step - loss: 764961280.0000 - mean_squared_error: 764961280.0000\n",
            "Epoch 30/100\n",
            "366/366 [==============================] - 0s 901us/step - loss: 764899008.0000 - mean_squared_error: 764899008.0000\n",
            "Epoch 31/100\n",
            "366/366 [==============================] - 0s 869us/step - loss: 764839936.0000 - mean_squared_error: 764839936.0000\n",
            "Epoch 32/100\n",
            "366/366 [==============================] - 0s 855us/step - loss: 764789568.0000 - mean_squared_error: 764789568.0000\n",
            "Epoch 33/100\n",
            "366/366 [==============================] - 0s 880us/step - loss: 764744064.0000 - mean_squared_error: 764744064.0000\n",
            "Epoch 34/100\n",
            "366/366 [==============================] - 0s 912us/step - loss: 764706048.0000 - mean_squared_error: 764706048.0000\n",
            "Epoch 35/100\n",
            "366/366 [==============================] - 0s 854us/step - loss: 764669760.0000 - mean_squared_error: 764669760.0000\n",
            "Epoch 36/100\n",
            "366/366 [==============================] - 0s 873us/step - loss: 764635456.0000 - mean_squared_error: 764635456.0000\n",
            "Epoch 37/100\n",
            "366/366 [==============================] - 0s 875us/step - loss: 764607680.0000 - mean_squared_error: 764607680.0000\n",
            "Epoch 38/100\n",
            "366/366 [==============================] - 0s 883us/step - loss: 764578688.0000 - mean_squared_error: 764578688.0000\n",
            "Epoch 39/100\n",
            "366/366 [==============================] - 0s 897us/step - loss: 764556992.0000 - mean_squared_error: 764556992.0000\n",
            "Epoch 40/100\n",
            "366/366 [==============================] - 0s 869us/step - loss: 764539904.0000 - mean_squared_error: 764539904.0000\n",
            "Epoch 41/100\n",
            "366/366 [==============================] - 0s 865us/step - loss: 764518912.0000 - mean_squared_error: 764518912.0000\n",
            "Epoch 42/100\n",
            "366/366 [==============================] - 0s 923us/step - loss: 764500096.0000 - mean_squared_error: 764500096.0000\n",
            "Epoch 43/100\n",
            "366/366 [==============================] - 0s 878us/step - loss: 764484032.0000 - mean_squared_error: 764484032.0000\n",
            "Epoch 44/100\n",
            "366/366 [==============================] - 0s 896us/step - loss: 764470400.0000 - mean_squared_error: 764470400.0000\n",
            "Epoch 45/100\n",
            "366/366 [==============================] - 0s 917us/step - loss: 764456512.0000 - mean_squared_error: 764456512.0000\n",
            "Epoch 46/100\n",
            "366/366 [==============================] - 0s 863us/step - loss: 764442432.0000 - mean_squared_error: 764442432.0000\n",
            "Epoch 47/100\n",
            "366/366 [==============================] - 0s 864us/step - loss: 764432576.0000 - mean_squared_error: 764432576.0000\n",
            "Epoch 48/100\n",
            "366/366 [==============================] - 0s 903us/step - loss: 764422464.0000 - mean_squared_error: 764422464.0000\n",
            "Epoch 49/100\n",
            "366/366 [==============================] - 0s 849us/step - loss: 764415872.0000 - mean_squared_error: 764415872.0000\n",
            "Epoch 50/100\n",
            "366/366 [==============================] - 0s 869us/step - loss: 764401856.0000 - mean_squared_error: 764401856.0000\n",
            "Epoch 51/100\n",
            "366/366 [==============================] - 0s 876us/step - loss: 764394688.0000 - mean_squared_error: 764394688.0000\n",
            "Epoch 52/100\n",
            "366/366 [==============================] - 0s 877us/step - loss: 764383424.0000 - mean_squared_error: 764383424.0000\n",
            "Epoch 53/100\n",
            "366/366 [==============================] - 0s 870us/step - loss: 764379200.0000 - mean_squared_error: 764379200.0000\n",
            "Epoch 54/100\n",
            "366/366 [==============================] - 0s 834us/step - loss: 764370432.0000 - mean_squared_error: 764370432.0000\n",
            "Epoch 55/100\n",
            "366/366 [==============================] - 0s 903us/step - loss: 764362560.0000 - mean_squared_error: 764362560.0000\n",
            "Epoch 56/100\n",
            "366/366 [==============================] - 0s 892us/step - loss: 764353536.0000 - mean_squared_error: 764353536.0000\n",
            "Epoch 57/100\n",
            "366/366 [==============================] - 0s 861us/step - loss: 764348032.0000 - mean_squared_error: 764348032.0000\n",
            "Epoch 58/100\n",
            "366/366 [==============================] - 0s 869us/step - loss: 764340672.0000 - mean_squared_error: 764340672.0000\n",
            "Epoch 59/100\n",
            "366/366 [==============================] - 0s 923us/step - loss: 764334912.0000 - mean_squared_error: 764334912.0000\n",
            "Epoch 60/100\n",
            "366/366 [==============================] - 0s 868us/step - loss: 764326016.0000 - mean_squared_error: 764326016.0000\n",
            "Epoch 61/100\n",
            "366/366 [==============================] - 0s 885us/step - loss: 764321600.0000 - mean_squared_error: 764321600.0000\n",
            "Epoch 62/100\n",
            "366/366 [==============================] - 0s 894us/step - loss: 764315968.0000 - mean_squared_error: 764315968.0000\n",
            "Epoch 63/100\n",
            "366/366 [==============================] - 0s 895us/step - loss: 764306880.0000 - mean_squared_error: 764306880.0000\n",
            "Epoch 64/100\n",
            "366/366 [==============================] - 0s 888us/step - loss: 764302272.0000 - mean_squared_error: 764302272.0000\n",
            "Epoch 65/100\n",
            "366/366 [==============================] - 0s 888us/step - loss: 764296704.0000 - mean_squared_error: 764296704.0000\n",
            "Epoch 66/100\n",
            "366/366 [==============================] - 0s 876us/step - loss: 764292672.0000 - mean_squared_error: 764292672.0000\n",
            "Epoch 67/100\n",
            "366/366 [==============================] - 0s 910us/step - loss: 764283456.0000 - mean_squared_error: 764283456.0000\n",
            "Epoch 68/100\n",
            "366/366 [==============================] - 0s 863us/step - loss: 764276928.0000 - mean_squared_error: 764276928.0000\n",
            "Epoch 69/100\n",
            "366/366 [==============================] - 0s 862us/step - loss: 764268800.0000 - mean_squared_error: 764268800.0000\n",
            "Epoch 70/100\n",
            "366/366 [==============================] - 0s 898us/step - loss: 764264320.0000 - mean_squared_error: 764264320.0000\n",
            "Epoch 71/100\n",
            "366/366 [==============================] - 0s 913us/step - loss: 764256704.0000 - mean_squared_error: 764256704.0000\n",
            "Epoch 72/100\n",
            "366/366 [==============================] - 0s 892us/step - loss: 764251712.0000 - mean_squared_error: 764251712.0000\n",
            "Epoch 73/100\n",
            "366/366 [==============================] - 0s 906us/step - loss: 764245760.0000 - mean_squared_error: 764245760.0000\n",
            "Epoch 74/100\n",
            "366/366 [==============================] - 0s 916us/step - loss: 764241984.0000 - mean_squared_error: 764241984.0000\n",
            "Epoch 75/100\n",
            "366/366 [==============================] - 0s 888us/step - loss: 764234048.0000 - mean_squared_error: 764234048.0000\n",
            "Epoch 76/100\n",
            "366/366 [==============================] - 0s 914us/step - loss: 764229632.0000 - mean_squared_error: 764229632.0000\n",
            "Epoch 77/100\n",
            "366/366 [==============================] - 0s 872us/step - loss: 764225536.0000 - mean_squared_error: 764225536.0000\n",
            "Epoch 78/100\n",
            "366/366 [==============================] - 0s 887us/step - loss: 764218560.0000 - mean_squared_error: 764218560.0000\n",
            "Epoch 79/100\n",
            "366/366 [==============================] - 0s 900us/step - loss: 764214592.0000 - mean_squared_error: 764214592.0000\n",
            "Epoch 80/100\n",
            "366/366 [==============================] - 0s 901us/step - loss: 764206784.0000 - mean_squared_error: 764206784.0000\n",
            "Epoch 81/100\n",
            "366/366 [==============================] - 0s 861us/step - loss: 764199552.0000 - mean_squared_error: 764199552.0000\n",
            "Epoch 82/100\n",
            "366/366 [==============================] - 0s 938us/step - loss: 764197248.0000 - mean_squared_error: 764197248.0000\n",
            "Epoch 83/100\n",
            "366/366 [==============================] - 0s 888us/step - loss: 764193792.0000 - mean_squared_error: 764193792.0000\n",
            "Epoch 84/100\n",
            "366/366 [==============================] - 0s 899us/step - loss: 764184256.0000 - mean_squared_error: 764184256.0000\n",
            "Epoch 85/100\n",
            "366/366 [==============================] - 0s 878us/step - loss: 764180416.0000 - mean_squared_error: 764180416.0000\n",
            "Epoch 86/100\n",
            "366/366 [==============================] - 0s 905us/step - loss: 764177152.0000 - mean_squared_error: 764177152.0000\n",
            "Epoch 87/100\n",
            "366/366 [==============================] - 0s 911us/step - loss: 764170176.0000 - mean_squared_error: 764170176.0000\n",
            "Epoch 88/100\n",
            "366/366 [==============================] - 0s 932us/step - loss: 764163904.0000 - mean_squared_error: 764163904.0000\n",
            "Epoch 89/100\n",
            "366/366 [==============================] - 0s 870us/step - loss: 764156864.0000 - mean_squared_error: 764156864.0000\n",
            "Epoch 90/100\n",
            "366/366 [==============================] - 0s 888us/step - loss: 764152000.0000 - mean_squared_error: 764152000.0000\n",
            "Epoch 91/100\n",
            "366/366 [==============================] - 0s 894us/step - loss: 764147904.0000 - mean_squared_error: 764147904.0000\n",
            "Epoch 92/100\n",
            "366/366 [==============================] - 0s 904us/step - loss: 764151040.0000 - mean_squared_error: 764151040.0000\n",
            "Epoch 93/100\n",
            "366/366 [==============================] - 0s 901us/step - loss: 764138368.0000 - mean_squared_error: 764138368.0000\n",
            "Epoch 94/100\n",
            "366/366 [==============================] - 0s 897us/step - loss: 764136256.0000 - mean_squared_error: 764136256.0000\n",
            "Epoch 95/100\n",
            "366/366 [==============================] - 0s 919us/step - loss: 764138624.0000 - mean_squared_error: 764138624.0000\n",
            "Epoch 96/100\n",
            "366/366 [==============================] - 0s 879us/step - loss: 764119744.0000 - mean_squared_error: 764119744.0000\n",
            "Epoch 97/100\n",
            "366/366 [==============================] - 0s 899us/step - loss: 764115968.0000 - mean_squared_error: 764115968.0000\n",
            "Epoch 98/100\n",
            "366/366 [==============================] - 0s 891us/step - loss: 764112320.0000 - mean_squared_error: 764112320.0000\n",
            "Epoch 99/100\n",
            "366/366 [==============================] - 0s 885us/step - loss: 764107904.0000 - mean_squared_error: 764107904.0000\n",
            "Epoch 100/100\n",
            "366/366 [==============================] - 0s 924us/step - loss: 764100672.0000 - mean_squared_error: 764100672.0000\n"
          ],
          "name": "stdout"
        }
      ]
    },
    {
      "cell_type": "code",
      "metadata": {
        "id": "bofdTE5w1QBA",
        "colab": {
          "base_uri": "https://localhost:8080/",
          "height": 263
        },
        "outputId": "64eedfa1-ff7f-474f-9720-4a5218b6c3f9"
      },
      "source": [
        "ann.summary()"
      ],
      "execution_count": null,
      "outputs": [
        {
          "output_type": "stream",
          "text": [
            "Model: \"sequential\"\n",
            "_________________________________________________________________\n",
            "Layer (type)                 Output Shape              Param #   \n",
            "=================================================================\n",
            "dense (Dense)                (None, 6)                 48        \n",
            "_________________________________________________________________\n",
            "dense_1 (Dense)              (None, 6)                 42        \n",
            "_________________________________________________________________\n",
            "dense_2 (Dense)              (None, 1)                 7         \n",
            "=================================================================\n",
            "Total params: 97\n",
            "Trainable params: 97\n",
            "Non-trainable params: 0\n",
            "_________________________________________________________________\n"
          ],
          "name": "stdout"
        }
      ]
    },
    {
      "cell_type": "code",
      "metadata": {
        "id": "Ywk7S76j1fyh",
        "colab": {
          "base_uri": "https://localhost:8080/",
          "height": 70
        },
        "outputId": "3fb0b7aa-ee1e-4e66-ffe2-64ae288e1edc"
      },
      "source": [
        "print_error(X_test,y_test, ann)"
      ],
      "execution_count": null,
      "outputs": [
        {
          "output_type": "stream",
          "text": [
            "Mean Absolute Error: 3147.8307949575733\n",
            "Mean Squared Error: 830406540.8872567\n",
            "Root Mean Squared Error: 28816.77533811264\n"
          ],
          "name": "stdout"
        }
      ]
    },
    {
      "cell_type": "markdown",
      "metadata": {
        "id": "PaH3J4dJ-Wfk"
      },
      "source": [
        "#**Step 9,10**"
      ]
    },
    {
      "cell_type": "code",
      "metadata": {
        "id": "L3oDiOHg2Hd8",
        "colab": {
          "base_uri": "https://localhost:8080/",
          "height": 34
        },
        "outputId": "dc19ea36-85c7-413c-a254-80520eba5de8"
      },
      "source": [
        "# Saving Scikitlearn models\n",
        "import joblib\n",
        "joblib.dump(random_forest,\"randomforest_youtubeadview.pkl\")"
      ],
      "execution_count": null,
      "outputs": [
        {
          "output_type": "execute_result",
          "data": {
            "text/plain": [
              "['randomforest_youtubeadview.pkl']"
            ]
          },
          "metadata": {
            "tags": []
          },
          "execution_count": 37
        }
      ]
    },
    {
      "cell_type": "code",
      "metadata": {
        "id": "cl1UajMA2hep"
      },
      "source": [
        "# Saving keras ANN model\n",
        "ann.save(\"ann_youtubeadview.h5\")"
      ],
      "execution_count": null,
      "outputs": []
    }
  ]
}